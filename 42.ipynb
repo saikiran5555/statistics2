{
 "cells": [
  {
   "cell_type": "markdown",
   "id": "13d199f6",
   "metadata": {},
   "source": [
    "\n",
    "For a normal distribution (also known as a Gaussian distribution), the relationship between its measures of central tendency, specifically the mean, median, and mode, is as follows:\n",
    "\n",
    "Mean (Average):\n",
    "\n",
    "In a perfectly symmetrical normal distribution, the mean (μ) is located at the exact center of the distribution.\n",
    "The mean is equal to the median in a normal distribution, making them identical.\n",
    "The mean is the point of highest probability density in the distribution.\n",
    "Median:\n",
    "\n",
    "In a perfectly symmetrical normal distribution, the median is also located at the exact center of the distribution.\n",
    "The median is equal to the mean in a normal distribution.\n",
    "The median is the 50th percentile of the distribution, meaning that 50% of the data falls below the median, and 50% falls above it.\n",
    "Mode:\n",
    "\n",
    "In a normal distribution, the mode is also equal to the mean and median.\n",
    "There is only one mode in a normal distribution, which is the value of the mean.\n",
    "The mode is the point of highest frequency or peak in the distribution.\n",
    "In summary, for a perfectly symmetrical normal distribution:\n",
    "\n",
    "The mean, median, and mode are all located at the center of the distribution.\n",
    "They are numerically equal, and their values are the same.\n",
    "It's important to note that in real-world datasets, the normal distribution may not be perfectly symmetrical due to factors such as skewness or the presence of outliers. In such cases, the mean, median, and mode may not be exactly equal, but they still provide valuable information about the central tendency and shape of the distribution."
   ]
  }
 ],
 "metadata": {
  "kernelspec": {
   "display_name": "Python 3 (ipykernel)",
   "language": "python",
   "name": "python3"
  },
  "language_info": {
   "codemirror_mode": {
    "name": "ipython",
    "version": 3
   },
   "file_extension": ".py",
   "mimetype": "text/x-python",
   "name": "python",
   "nbconvert_exporter": "python",
   "pygments_lexer": "ipython3",
   "version": "3.10.9"
  }
 },
 "nbformat": 4,
 "nbformat_minor": 5
}
