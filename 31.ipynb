{
 "cells": [
  {
   "cell_type": "markdown",
   "id": "bacc055a",
   "metadata": {},
   "source": [
    "The three measures of central tendency are:\n",
    "\n",
    "Mean (Average): The mean is calculated by summing up all the values in a dataset and dividing by the total number of values. It represents the arithmetic average of the data points.\n",
    "\n",
    "Median: The median is the middle value in a dataset when the values are arranged in ascending or descending order. If there is an even number of values, the median is the average of the two middle values.\n",
    "\n",
    "Mode: The mode is the value that appears most frequently in a dataset. A dataset can have no mode (all values occur with equal frequency), one mode (unimodal), or multiple modes (multimodal).\n",
    "\n",
    "These measures provide different ways to describe the central or typical value in a dataset, and they are used to understand the distribution and characteristics of the data."
   ]
  }
 ],
 "metadata": {
  "kernelspec": {
   "display_name": "Python 3 (ipykernel)",
   "language": "python",
   "name": "python3"
  },
  "language_info": {
   "codemirror_mode": {
    "name": "ipython",
    "version": 3
   },
   "file_extension": ".py",
   "mimetype": "text/x-python",
   "name": "python",
   "nbconvert_exporter": "python",
   "pygments_lexer": "ipython3",
   "version": "3.10.9"
  }
 },
 "nbformat": 4,
 "nbformat_minor": 5
}
