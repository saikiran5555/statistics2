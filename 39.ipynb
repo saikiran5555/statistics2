{
 "cells": [
  {
   "cell_type": "markdown",
   "id": "999e853d",
   "metadata": {},
   "source": [
    "\n",
    "If a dataset is right-skewed (positively skewed), the position of the median with respect to the mean will typically follow this pattern:\n",
    "\n",
    "Mean > Median:\n",
    "In a right-skewed distribution, the majority of data points are concentrated on the left side (lower values) of the distribution.\n",
    "Since the right tail of the distribution contains relatively few, but often large, extreme values or outliers, it pulls the mean in the direction of the tail.\n",
    "As a result, the mean is greater than the median in a right-skewed distribution.\n",
    "To summarize, in a right-skewed dataset:\n",
    "\n",
    "The mean is greater than the median.\n",
    "The median is closer to the lower end (left side) of the distribution where most of the data points are concentrated.\n",
    "The presence of outliers or extreme values on the right side of the distribution causes the mean to be pulled toward higher values.\n",
    "This relationship between mean and median is a characteristic feature of right-skewed distributions and is useful in understanding the shape and central tendency of the data."
   ]
  }
 ],
 "metadata": {
  "kernelspec": {
   "display_name": "Python 3 (ipykernel)",
   "language": "python",
   "name": "python3"
  },
  "language_info": {
   "codemirror_mode": {
    "name": "ipython",
    "version": 3
   },
   "file_extension": ".py",
   "mimetype": "text/x-python",
   "name": "python",
   "nbconvert_exporter": "python",
   "pygments_lexer": "ipython3",
   "version": "3.10.9"
  }
 },
 "nbformat": 4,
 "nbformat_minor": 5
}
