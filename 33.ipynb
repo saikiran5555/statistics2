{
 "cells": [
  {
   "cell_type": "markdown",
   "id": "2447e1f2",
   "metadata": {},
   "source": [
    "Let's calculate the three measures of central tendency (mean, median, and mode) for the given height data:\n",
    "\n",
    "Height data: [178, 177, 176, 177, 178.2, 178, 175, 179, 180, 175, 178.9, 176.2, 177, 172.5, 178, 176.5]\n",
    "\n",
    "Mean (Average):\n",
    "\n",
    "Mean = (Sum of all heights) / (Number of heights)\n",
    "Mean = (178 + 177 + 176 + 177 + 178.2 + 178 + 175 + 179 + 180 + 175 + 178.9 + 176.2 + 177 + 172.5 + 178 + 176.5) / 16\n",
    "Mean ≈ 177.31 (rounded to two decimal places)\n",
    "Median:\n",
    "\n",
    "To find the median, first, sort the data in ascending order:\n",
    "[172.5, 175, 175, 176, 176, 176.2, 176.5, 177, 177, 178, 178, 178, 178, 178.2, 179, 180]\n",
    "Since there is an even number of data points (16), the median is the average of the two middle values:\n",
    "Median = (176 + 176.2) / 2\n",
    "Median ≈ 176.10 (rounded to two decimal places)\n",
    "Mode:\n",
    "\n",
    "The mode is the value that appears most frequently in the dataset.\n",
    "In this dataset, the mode is the value(s) with the highest frequency.\n",
    "From the sorted data, we can see that the value 178 appears most frequently (five times).\n",
    "So, the mode is 178.\n",
    "Summary of measures of central tendency:\n",
    "\n",
    "Mean ≈ 177.31 (rounded to two decimal places)\n",
    "Median ≈ 176.10 (rounded to two decimal places)\n",
    "Mode = 178\n",
    "These measures provide different ways to describe the central tendency of the height data. The mean is the arithmetic average, the median is the middle value, and the mode is the most frequent value. In this dataset, the mean height is slightly higher than the median, and the mode is 178, which appears most frequently."
   ]
  }
 ],
 "metadata": {
  "kernelspec": {
   "display_name": "Python 3 (ipykernel)",
   "language": "python",
   "name": "python3"
  },
  "language_info": {
   "codemirror_mode": {
    "name": "ipython",
    "version": 3
   },
   "file_extension": ".py",
   "mimetype": "text/x-python",
   "name": "python",
   "nbconvert_exporter": "python",
   "pygments_lexer": "ipython3",
   "version": "3.10.9"
  }
 },
 "nbformat": 4,
 "nbformat_minor": 5
}
