{
 "cells": [
  {
   "cell_type": "markdown",
   "id": "73e90e41",
   "metadata": {},
   "source": [
    "To find the standard deviation for the given data, you can follow these steps:\n",
    "\n",
    "Calculate the mean (average) of the data.\n",
    "Find the squared difference between each data point and the mean.\n",
    "Calculate the mean of those squared differences.\n",
    "Take the square root of the mean squared differences to find the standard deviation.\n",
    "Let's calculate it step by step:\n",
    "\n",
    "Given data: [178, 177, 176, 177, 178.2, 178, 175, 179, 180, 175, 178.9, 176.2, 177, 172.5, 178, 176.5]\n",
    "\n",
    "Step 1: Calculate the mean (average)\n",
    "Mean = (Sum of all data points) / (Number of data points)\n",
    "Mean = (178 + 177 + 176 + 177 + 178.2 + 178 + 175 + 179 + 180 + 175 + 178.9 + 176.2 + 177 + 172.5 + 178 + 176.5) / 16\n",
    "Mean ≈ 177.31 (rounded to two decimal places)\n",
    "\n",
    "Step 2: Find the squared difference between each data point and the mean:\n",
    "You can calculate the squared difference for each data point by subtracting the mean from that data point and squaring the result:\n",
    "\n",
    "Squared Differences:\n",
    "(178 - 177.31)^2 ≈ 0.4881\n",
    "(177 - 177.31)^2 ≈ 0.0981\n",
    "(176 - 177.31)^2 ≈ 1.7281\n",
    "(177 - 177.31)^2 ≈ 0.0981\n",
    "(178.2 - 177.31)^2 ≈ 0.7744\n",
    "(178 - 177.31)^2 ≈ 0.4881\n",
    "(175 - 177.31)^2 ≈ 5.3231\n",
    "(179 - 177.31)^2 ≈ 2.8481\n",
    "(180 - 177.31)^2 ≈ 7.5721\n",
    "(175 - 177.31)^2 ≈ 5.3231\n",
    "(178.9 - 177.31)^2 ≈ 2.5281\n",
    "(176.2 - 177.31)^2 ≈ 1.2396\n",
    "(177 - 177.31)^2 ≈ 0.0981\n",
    "(172.5 - 177.31)^2 ≈ 2.3481\n",
    "(178 - 177.31)^2 ≈ 0.4881\n",
    "(176.5 - 177.31)^2 ≈ 0.6561\n",
    "\n",
    "Step 3: Calculate the mean of the squared differences:\n",
    "Mean of Squared Differences = (Sum of Squared Differences) / (Number of data points - 1)\n",
    "Mean of Squared Differences ≈ (0.4881 + 0.0981 + 1.7281 + 0.0981 + 0.7744 + 0.4881 + 5.3231 + 2.8481 + 7.5721 + 5.3231 + 2.5281 + 1.2396 + 0.0981 + 2.3481 + 0.4881 + 0.6561) / (16 - 1)\n",
    "Mean of Squared Differences ≈ 1.6219 (rounded to four decimal places)\n",
    "\n",
    "Step 4: Take the square root of the mean squared differences to find the standard deviation:\n",
    "Standard Deviation ≈ √1.6219 ≈ 1.2725 (rounded to four decimal places)\n",
    "\n",
    "So, the standard deviation of the given data is approximately 1.2725 (rounded to four decimal places)."
   ]
  }
 ],
 "metadata": {
  "kernelspec": {
   "display_name": "Python 3 (ipykernel)",
   "language": "python",
   "name": "python3"
  },
  "language_info": {
   "codemirror_mode": {
    "name": "ipython",
    "version": 3
   },
   "file_extension": ".py",
   "mimetype": "text/x-python",
   "name": "python",
   "nbconvert_exporter": "python",
   "pygments_lexer": "ipython3",
   "version": "3.10.9"
  }
 },
 "nbformat": 4,
 "nbformat_minor": 5
}
