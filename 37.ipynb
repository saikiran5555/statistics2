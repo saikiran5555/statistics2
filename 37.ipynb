{
 "cells": [
  {
   "cell_type": "markdown",
   "id": "efbc9e72",
   "metadata": {},
   "source": [
    "To find the union (A ⋃ B) and intersection (A ∩ B) of two sets A and B, you can follow these steps:\n",
    "\n",
    "Given sets:\n",
    "A = {2, 3, 4, 5, 6, 7}\n",
    "B = {0, 2, 6, 8, 10}\n",
    "\n",
    "(i) A ∩ B (Intersection):\n",
    "\n",
    "The intersection of two sets consists of elements that are common to both sets.\n",
    "In this case, the common elements between sets A and B are {2, 6} because they appear in both sets.\n",
    "So, A ∩ B = {2, 6}.\n",
    "(ii) A ⋃ B (Union):\n",
    "\n",
    "The union of two sets consists of all unique elements from both sets, without duplication.\n",
    "Combine the elements from sets A and B to form the union:\n",
    "A ⋃ B = {0, 2, 3, 4, 5, 6, 7, 8, 10}\n",
    "Note that elements that are common to both sets (i.e., {2, 6}) are included only once in the union.\n",
    "So, the solutions are:\n",
    "(i) A ∩ B = {2, 6}\n",
    "(ii) A ⋃ B = {0, 2, 3, 4, 5, 6, 7, 8, 10}"
   ]
  }
 ],
 "metadata": {
  "kernelspec": {
   "display_name": "Python 3 (ipykernel)",
   "language": "python",
   "name": "python3"
  },
  "language_info": {
   "codemirror_mode": {
    "name": "ipython",
    "version": 3
   },
   "file_extension": ".py",
   "mimetype": "text/x-python",
   "name": "python",
   "nbconvert_exporter": "python",
   "pygments_lexer": "ipython3",
   "version": "3.10.9"
  }
 },
 "nbformat": 4,
 "nbformat_minor": 5
}
